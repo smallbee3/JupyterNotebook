{
 "cells": [
  {
   "cell_type": "markdown",
   "metadata": {},
   "source": [
    "### 클래스 외부의 변수와 함수를 클래스 내부에 넣어주는 극악의 난이도"
   ]
  },
  {
   "cell_type": "code",
   "execution_count": 13,
   "metadata": {},
   "outputs": [
    {
     "name": "stdout",
     "output_type": "stream",
     "text": [
      "철수가 먹어서 60.6kg이 되었습니다\n"
     ]
    }
   ],
   "source": [
    "class Human( ):\n",
    "    '''인간'''\n",
    "    def create( name, weight ): # 다음 강의에서 자세히 설명\n",
    "        person = Human()\n",
    "        person.name = name\n",
    "        person.weight = weight\n",
    "        return person\n",
    "\n",
    "    def eat( self ):\n",
    "        self.weight += 0.1\n",
    "        print(\"{}가 먹어서 {}kg이 되었습니다\".format(self.name, self.weight))\n",
    "\n",
    "    def walk( self ):\n",
    "        self.weight -= 0.1\n",
    "        print(\"{}가 걸어서 {}kg이 되었습니다\".format(self.name, self.weight))\n",
    "\n",
    "person = Human.create(\"철수\", 60.5)\n",
    "person.eat()\n"
   ]
  },
  {
   "cell_type": "code",
   "execution_count": 12,
   "metadata": {},
   "outputs": [
    {
     "name": "stdout",
     "output_type": "stream",
     "text": [
      "철수가 먹어서 60.6kg이 되었습니다\n"
     ]
    }
   ],
   "source": [
    "class Human( ):\n",
    "    '''인간'''\n",
    "\n",
    "def create( name, weight ): # 다음 강의에서 자세히 설명\n",
    "    person = Human()\n",
    "    person.name = name\n",
    "    person.weight = weight\n",
    "    return person\n",
    "\n",
    "def eat( self ):\n",
    "    self.weight += 0.1\n",
    "    print(\"{}가 먹어서 {}kg이 되었습니다\".format(self.name, self.weight))\n",
    "\n",
    "def walk( self ):\n",
    "    self.weight -= 0.1\n",
    "    print(\"{}가 걸어서 {}kg이 되었습니다\".format(self.name, self.weight))\n",
    "\n",
    "\n",
    "Human.create = create\n",
    "Human.eat = eat\n",
    "Human.walk = walk\n",
    "\n",
    "person = Human.create(\"철수\", 60.5)\n",
    "person.eat()\n"
   ]
  },
  {
   "cell_type": "code",
   "execution_count": null,
   "metadata": {},
   "outputs": [],
   "source": []
  },
  {
   "cell_type": "code",
   "execution_count": null,
   "metadata": {},
   "outputs": [],
   "source": []
  }
 ],
 "metadata": {
  "kernelspec": {
   "display_name": "Python 3",
   "language": "python",
   "name": "python3"
  },
  "language_info": {
   "codemirror_mode": {
    "name": "ipython",
    "version": 3
   },
   "file_extension": ".py",
   "mimetype": "text/x-python",
   "name": "python",
   "nbconvert_exporter": "python",
   "pygments_lexer": "ipython3",
   "version": "3.6.4"
  }
 },
 "nbformat": 4,
 "nbformat_minor": 2
}
