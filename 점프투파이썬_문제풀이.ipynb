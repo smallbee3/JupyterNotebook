{
 "cells": [
  {
   "cell_type": "markdown",
   "metadata": {},
   "source": [
    "### 클래스 외부의 변수와 함수를 클래스 내부에 넣어주는 극악의 난이도"
   ]
  },
  {
   "cell_type": "code",
   "execution_count": 13,
   "metadata": {},
   "outputs": [
    {
     "name": "stdout",
     "output_type": "stream",
     "text": [
      "철수가 먹어서 60.6kg이 되었습니다\n"
     ]
    }
   ],
   "source": [
    "class Human( ):\n",
    "    '''인간'''\n",
    "    def create( name, weight ): # 다음 강의에서 자세히 설명\n",
    "        person = Human()\n",
    "        person.name = name\n",
    "        person.weight = weight\n",
    "        return person\n",
    "\n",
    "    def eat( self ):\n",
    "        self.weight += 0.1\n",
    "        print(\"{}가 먹어서 {}kg이 되었습니다\".format(self.name, self.weight))\n",
    "\n",
    "    def walk( self ):\n",
    "        self.weight -= 0.1\n",
    "        print(\"{}가 걸어서 {}kg이 되었습니다\".format(self.name, self.weight))\n",
    "\n",
    "person = Human.create(\"철수\", 60.5)\n",
    "person.eat()\n"
   ]
  },
  {
   "cell_type": "code",
   "execution_count": 12,
   "metadata": {},
   "outputs": [
    {
     "name": "stdout",
     "output_type": "stream",
     "text": [
      "철수가 먹어서 60.6kg이 되었습니다\n"
     ]
    }
   ],
   "source": [
    "class Human( ):\n",
    "    '''인간'''\n",
    "\n",
    "def create( name, weight ): # 다음 강의에서 자세히 설명\n",
    "    person = Human()\n",
    "    person.name = name\n",
    "    person.weight = weight\n",
    "    return person\n",
    "\n",
    "def eat( self ):\n",
    "    self.weight += 0.1\n",
    "    print(\"{}가 먹어서 {}kg이 되었습니다\".format(self.name, self.weight))\n",
    "\n",
    "def walk( self ):\n",
    "    self.weight -= 0.1\n",
    "    print(\"{}가 걸어서 {}kg이 되었습니다\".format(self.name, self.weight))\n",
    "\n",
    "\n",
    "Human.create = create\n",
    "Human.eat = eat\n",
    "Human.walk = walk\n",
    "\n",
    "person = Human.create(\"철수\", 60.5)\n",
    "person.eat()\n"
   ]
  },
  {
   "cell_type": "code",
   "execution_count": null,
   "metadata": {},
   "outputs": [],
   "source": []
  },
  {
   "cell_type": "code",
   "execution_count": 1,
   "metadata": {},
   "outputs": [],
   "source": [
    "### 05 파이썬 날개 달기 - 연습문제 p.267"
   ]
  },
  {
   "cell_type": "code",
   "execution_count": 8,
   "metadata": {},
   "outputs": [
    {
     "data": {
      "text/plain": [
       "15"
      ]
     },
     "execution_count": 8,
     "metadata": {},
     "output_type": "execute_result"
    }
   ],
   "source": [
    "class Calculator():\n",
    "    def __init__(self, list1):\n",
    "        self.list1 = list1\n",
    "    \n",
    "    def sum(self):\n",
    "        sum1 = 0\n",
    "        for i in range(len(self.list1)):\n",
    "            sum1 += self.list1[i]\n",
    "         # print(self.list1[i])\n",
    "        return sum1\n",
    "\n",
    "    def avg(self):\n",
    "        sum1 = 0\n",
    "        for i in range(len(self.list1)):\n",
    "            sum1 += self.list1[i]\n",
    "        return sum1 / len(self.list1)\n",
    "\n",
    "cal1 = Calculator([1,2,3,4,5])\n",
    "cal1.sum()\n",
    "# cal1.avg()"
   ]
  },
  {
   "cell_type": "code",
   "execution_count": 9,
   "metadata": {},
   "outputs": [
    {
     "data": {
      "text/plain": [
       "40"
      ]
     },
     "execution_count": 9,
     "metadata": {},
     "output_type": "execute_result"
    }
   ],
   "source": [
    "cal2 = Calculator([6,7,8,9,10])\n",
    "cal2.sum()\n",
    "#cal2.avg()"
   ]
  },
  {
   "cell_type": "code",
   "execution_count": null,
   "metadata": {},
   "outputs": [],
   "source": []
  },
  {
   "cell_type": "code",
   "execution_count": null,
   "metadata": {},
   "outputs": [],
   "source": []
  },
  {
   "cell_type": "code",
   "execution_count": null,
   "metadata": {},
   "outputs": [],
   "source": []
  }
 ],
 "metadata": {
  "kernelspec": {
   "display_name": "Python 3",
   "language": "python",
   "name": "python3"
  },
  "language_info": {
   "codemirror_mode": {
    "name": "ipython",
    "version": 3
   },
   "file_extension": ".py",
   "mimetype": "text/x-python",
   "name": "python",
   "nbconvert_exporter": "python",
   "pygments_lexer": "ipython3",
   "version": "3.6.4"
  }
 },
 "nbformat": 4,
 "nbformat_minor": 2
}
