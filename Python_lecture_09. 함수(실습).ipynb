{
 "cells": [
  {
   "cell_type": "markdown",
   "metadata": {},
   "source": [
    "### 함수를 인자로 전달"
   ]
  },
  {
   "cell_type": "code",
   "execution_count": null,
   "metadata": {},
   "outputs": [],
   "source": [
    "# 1"
   ]
  },
  {
   "cell_type": "code",
   "execution_count": 150,
   "metadata": {},
   "outputs": [
    {
     "name": "stdout",
     "output_type": "stream",
     "text": [
      "melon\n"
     ]
    }
   ],
   "source": [
    "def fruit(str):\n",
    "    if str == 'red':\n",
    "        return 'apple'\n",
    "    elif str == 'yellow':\n",
    "        return 'yellow'\n",
    "    elif str == 'green':\n",
    "        return 'melon'\n",
    "    else:\n",
    "        return 'I don\\'t know'\n",
    "    \n",
    "result = fruit('green')\n",
    "print(result)"
   ]
  },
  {
   "cell_type": "code",
   "execution_count": null,
   "metadata": {},
   "outputs": [],
   "source": []
  },
  {
   "cell_type": "code",
   "execution_count": null,
   "metadata": {},
   "outputs": [],
   "source": [
    "# 2"
   ]
  },
  {
   "cell_type": "code",
   "execution_count": 88,
   "metadata": {},
   "outputs": [
    {
     "name": "stdout",
     "output_type": "stream",
     "text": [
      "melon\n"
     ]
    }
   ],
   "source": [
    "def fruit(str):\n",
    "    \"Return fruits functions\"\n",
    "    if str == 'red':\n",
    "        return 'apple'\n",
    "    elif str == 'yellow':\n",
    "        return 'yellow'\n",
    "    elif str == 'green':\n",
    "        return 'melon'\n",
    "    else:\n",
    "        return 'I don\\'t know'\n",
    "    \n",
    "result = fruit('green')\n",
    "print(result)"
   ]
  },
  {
   "cell_type": "code",
   "execution_count": 149,
   "metadata": {},
   "outputs": [
    {
     "name": "stdout",
     "output_type": "stream",
     "text": [
      "Help on function fruit in module __main__:\n",
      "\n",
      "fruit(str)\n",
      "    Return fruits functions\n",
      "\n"
     ]
    }
   ],
   "source": [
    "help(fruit)"
   ]
  },
  {
   "cell_type": "code",
   "execution_count": null,
   "metadata": {},
   "outputs": [],
   "source": []
  },
  {
   "cell_type": "code",
   "execution_count": 166,
   "metadata": {},
   "outputs": [],
   "source": [
    "# 3"
   ]
  },
  {
   "cell_type": "code",
   "execution_count": 167,
   "metadata": {},
   "outputs": [],
   "source": [
    "# 방법 1 - 내가 한 방법\n",
    "\n",
    "def calc(*args):\n",
    "    if len(args) > 1:\n",
    "       # tuple1 = tuple()\n",
    "       # tuple1 = tuple(args)\n",
    "       # return tuple1[0] * tuple1[1]\n",
    "        return args[0] * args[1]\n",
    "    \n",
    "    else:     # elif len(args) == 2: 로도 표현 가능\n",
    "       # tuple2 = tuple()\n",
    "       # tuple2 = tuple(args)\n",
    "        return args[0]**2\n",
    "    \n",
    "    \n",
    "# 방법 2\n",
    "\n",
    "def calc2(var1, var2=None):\n",
    "    if var2:\n",
    "        return var1 * var2\n",
    "    else:\n",
    "        return var1 * var1"
   ]
  },
  {
   "cell_type": "code",
   "execution_count": 168,
   "metadata": {},
   "outputs": [
    {
     "data": {
      "text/plain": [
       "10"
      ]
     },
     "execution_count": 168,
     "metadata": {},
     "output_type": "execute_result"
    }
   ],
   "source": [
    "calc(2, 5)"
   ]
  },
  {
   "cell_type": "code",
   "execution_count": 169,
   "metadata": {},
   "outputs": [
    {
     "data": {
      "text/plain": [
       "25"
      ]
     },
     "execution_count": 169,
     "metadata": {},
     "output_type": "execute_result"
    }
   ],
   "source": [
    "calc(5)"
   ]
  },
  {
   "cell_type": "code",
   "execution_count": 170,
   "metadata": {},
   "outputs": [
    {
     "data": {
      "text/plain": [
       "10"
      ]
     },
     "execution_count": 170,
     "metadata": {},
     "output_type": "execute_result"
    }
   ],
   "source": [
    "calc2(2, 5)"
   ]
  },
  {
   "cell_type": "code",
   "execution_count": 172,
   "metadata": {},
   "outputs": [
    {
     "data": {
      "text/plain": [
       "25"
      ]
     },
     "execution_count": 172,
     "metadata": {},
     "output_type": "execute_result"
    }
   ],
   "source": [
    "calc(5)"
   ]
  },
  {
   "cell_type": "code",
   "execution_count": null,
   "metadata": {},
   "outputs": [],
   "source": []
  },
  {
   "cell_type": "code",
   "execution_count": 72,
   "metadata": {},
   "outputs": [],
   "source": [
    "# 4"
   ]
  },
  {
   "cell_type": "code",
   "execution_count": 161,
   "metadata": {},
   "outputs": [],
   "source": [
    "# 1 과도한 과정\n",
    "'''\n",
    "def calc2(num1, num2):\n",
    "    sum = 0\n",
    "    sub = 0\n",
    "    sum = num1 + num2\n",
    "    sub = num1 - num2\n",
    "    tuple1 = (sum, abs(sub))\n",
    "    return tuple1\n",
    "'''\n",
    "\n",
    "'''\n",
    "# 2 과정 생략\n",
    "def calc2(num1, num2):\n",
    "    return (num1+num2, num1-num2)\n",
    "'''\n",
    "\n",
    "\n",
    "# 3 절대값을 통해 정수값만 출력\n",
    "\n",
    "def calc2(num1, num2):\n",
    "    return (num1+num2, abs(num1-num2))\n",
    "\n",
    "\n"
   ]
  },
  {
   "cell_type": "code",
   "execution_count": 162,
   "metadata": {},
   "outputs": [
    {
     "data": {
      "text/plain": [
       "(7, 3)"
      ]
     },
     "execution_count": 162,
     "metadata": {},
     "output_type": "execute_result"
    }
   ],
   "source": [
    "calc2(5, 2)"
   ]
  },
  {
   "cell_type": "code",
   "execution_count": 173,
   "metadata": {},
   "outputs": [
    {
     "data": {
      "text/plain": [
       "3"
      ]
     },
     "execution_count": 173,
     "metadata": {},
     "output_type": "execute_result"
    }
   ],
   "source": [
    "calc2(1, 3)"
   ]
  },
  {
   "cell_type": "code",
   "execution_count": null,
   "metadata": {},
   "outputs": [],
   "source": []
  },
  {
   "cell_type": "code",
   "execution_count": null,
   "metadata": {},
   "outputs": [],
   "source": [
    "# 5"
   ]
  },
  {
   "cell_type": "code",
   "execution_count": 174,
   "metadata": {},
   "outputs": [],
   "source": [
    "def num_return(*args):\n",
    "    print(f'{len(args)}개의 위치인자가 전달되었습니다.')\n",
    "    return len(args)\n",
    "\n",
    "# 좀 더 보기 쉽게\n",
    "def num_return2(*args):\n",
    "    num_args = len(args)\n",
    "    print(f'{num_args}개의 위치인자가 전달되었습니다.')\n",
    "    return num_args\n"
   ]
  },
  {
   "cell_type": "code",
   "execution_count": 175,
   "metadata": {},
   "outputs": [
    {
     "name": "stdout",
     "output_type": "stream",
     "text": [
      "3개의 위치인자가 전달되었습니다.\n"
     ]
    },
    {
     "data": {
      "text/plain": [
       "3"
      ]
     },
     "execution_count": 175,
     "metadata": {},
     "output_type": "execute_result"
    }
   ],
   "source": [
    "num_return('a', 'b', 'c')"
   ]
  },
  {
   "cell_type": "code",
   "execution_count": 176,
   "metadata": {},
   "outputs": [
    {
     "name": "stdout",
     "output_type": "stream",
     "text": [
      "4개의 위치인자가 전달되었습니다.\n"
     ]
    },
    {
     "data": {
      "text/plain": [
       "4"
      ]
     },
     "execution_count": 176,
     "metadata": {},
     "output_type": "execute_result"
    }
   ],
   "source": [
    "num_return2('a', 'b', 'c', 'd')"
   ]
  },
  {
   "cell_type": "code",
   "execution_count": null,
   "metadata": {},
   "outputs": [],
   "source": []
  },
  {
   "cell_type": "code",
   "execution_count": 180,
   "metadata": {},
   "outputs": [],
   "source": [
    "# 6"
   ]
  },
  {
   "cell_type": "code",
   "execution_count": 181,
   "metadata": {},
   "outputs": [
    {
     "data": {
      "text/plain": [
       "['2 x 1 = 2',\n",
       " '2 x 2 = 4',\n",
       " '2 x 3 = 6',\n",
       " '2 x 4 = 8',\n",
       " '2 x 5 = 10',\n",
       " '2 x 6 = 12',\n",
       " '2 x 7 = 14',\n",
       " '2 x 8 = 16',\n",
       " '2 x 9 = 18',\n",
       " '3 x 1 = 3',\n",
       " '3 x 2 = 6',\n",
       " '3 x 3 = 9',\n",
       " '3 x 4 = 12',\n",
       " '3 x 5 = 15',\n",
       " '3 x 6 = 18',\n",
       " '3 x 7 = 21',\n",
       " '3 x 8 = 24',\n",
       " '3 x 9 = 27',\n",
       " '4 x 1 = 4',\n",
       " '4 x 2 = 8',\n",
       " '4 x 3 = 12',\n",
       " '4 x 4 = 16',\n",
       " '4 x 5 = 20',\n",
       " '4 x 6 = 24',\n",
       " '4 x 7 = 28',\n",
       " '4 x 8 = 32',\n",
       " '4 x 9 = 36',\n",
       " '5 x 1 = 5',\n",
       " '5 x 2 = 10',\n",
       " '5 x 3 = 15',\n",
       " '5 x 4 = 20',\n",
       " '5 x 5 = 25',\n",
       " '5 x 6 = 30',\n",
       " '5 x 7 = 35',\n",
       " '5 x 8 = 40',\n",
       " '5 x 9 = 45',\n",
       " '6 x 1 = 6',\n",
       " '6 x 2 = 12',\n",
       " '6 x 3 = 18',\n",
       " '6 x 4 = 24',\n",
       " '6 x 5 = 30',\n",
       " '6 x 6 = 36',\n",
       " '6 x 7 = 42',\n",
       " '6 x 8 = 48',\n",
       " '6 x 9 = 54',\n",
       " '7 x 1 = 7',\n",
       " '7 x 2 = 14',\n",
       " '7 x 3 = 21',\n",
       " '7 x 4 = 28',\n",
       " '7 x 5 = 35',\n",
       " '7 x 6 = 42',\n",
       " '7 x 7 = 49',\n",
       " '7 x 8 = 56',\n",
       " '7 x 9 = 63',\n",
       " '8 x 1 = 8',\n",
       " '8 x 2 = 16',\n",
       " '8 x 3 = 24',\n",
       " '8 x 4 = 32',\n",
       " '8 x 5 = 40',\n",
       " '8 x 6 = 48',\n",
       " '8 x 7 = 56',\n",
       " '8 x 8 = 64',\n",
       " '8 x 9 = 72',\n",
       " '9 x 1 = 9',\n",
       " '9 x 2 = 18',\n",
       " '9 x 3 = 27',\n",
       " '9 x 4 = 36',\n",
       " '9 x 5 = 45',\n",
       " '9 x 6 = 54',\n",
       " '9 x 7 = 63',\n",
       " '9 x 8 = 72',\n",
       " '9 x 9 = 81']"
      ]
     },
     "execution_count": 181,
     "metadata": {},
     "output_type": "execute_result"
    }
   ],
   "source": [
    "result = []\n",
    "for x in range(2, 10):\n",
    "    for y in range(1, 10):\n",
    "        def make_gugu_string(a, b):\n",
    "            return f'{a} x {b} = {a*b}'\n",
    "        result.append(make_gugu_string(x, y))\n",
    "\n",
    "result"
   ]
  },
  {
   "cell_type": "code",
   "execution_count": 179,
   "metadata": {},
   "outputs": [
    {
     "data": {
      "text/plain": [
       "['2 x 1 = 2',\n",
       " '2 x 2 = 4',\n",
       " '2 x 3 = 6',\n",
       " '2 x 4 = 8',\n",
       " '2 x 5 = 10',\n",
       " '2 x 6 = 12',\n",
       " '2 x 7 = 14',\n",
       " '2 x 8 = 16',\n",
       " '2 x 9 = 18',\n",
       " '3 x 1 = 3',\n",
       " '3 x 2 = 6',\n",
       " '3 x 3 = 9',\n",
       " '3 x 4 = 12',\n",
       " '3 x 5 = 15',\n",
       " '3 x 6 = 18',\n",
       " '3 x 7 = 21',\n",
       " '3 x 8 = 24',\n",
       " '3 x 9 = 27',\n",
       " '4 x 1 = 4',\n",
       " '4 x 2 = 8',\n",
       " '4 x 3 = 12',\n",
       " '4 x 4 = 16',\n",
       " '4 x 5 = 20',\n",
       " '4 x 6 = 24',\n",
       " '4 x 7 = 28',\n",
       " '4 x 8 = 32',\n",
       " '4 x 9 = 36',\n",
       " '5 x 1 = 5',\n",
       " '5 x 2 = 10',\n",
       " '5 x 3 = 15',\n",
       " '5 x 4 = 20',\n",
       " '5 x 5 = 25',\n",
       " '5 x 6 = 30',\n",
       " '5 x 7 = 35',\n",
       " '5 x 8 = 40',\n",
       " '5 x 9 = 45',\n",
       " '6 x 1 = 6',\n",
       " '6 x 2 = 12',\n",
       " '6 x 3 = 18',\n",
       " '6 x 4 = 24',\n",
       " '6 x 5 = 30',\n",
       " '6 x 6 = 36',\n",
       " '6 x 7 = 42',\n",
       " '6 x 8 = 48',\n",
       " '6 x 9 = 54',\n",
       " '7 x 1 = 7',\n",
       " '7 x 2 = 14',\n",
       " '7 x 3 = 21',\n",
       " '7 x 4 = 28',\n",
       " '7 x 5 = 35',\n",
       " '7 x 6 = 42',\n",
       " '7 x 7 = 49',\n",
       " '7 x 8 = 56',\n",
       " '7 x 9 = 63',\n",
       " '8 x 1 = 8',\n",
       " '8 x 2 = 16',\n",
       " '8 x 3 = 24',\n",
       " '8 x 4 = 32',\n",
       " '8 x 5 = 40',\n",
       " '8 x 6 = 48',\n",
       " '8 x 7 = 56',\n",
       " '8 x 8 = 64',\n",
       " '8 x 9 = 72',\n",
       " '9 x 1 = 9',\n",
       " '9 x 2 = 18',\n",
       " '9 x 3 = 27',\n",
       " '9 x 4 = 36',\n",
       " '9 x 5 = 45',\n",
       " '9 x 6 = 54',\n",
       " '9 x 7 = 63',\n",
       " '9 x 8 = 72',\n",
       " '9 x 9 = 81']"
      ]
     },
     "execution_count": 179,
     "metadata": {},
     "output_type": "execute_result"
    }
   ],
   "source": [
    "[(lambda x, y: f'{x} x {y} = {x * y}')(a, b) for a in range(2,10) for b in range(1, 10)]\n",
    "\n",
    "\n",
    "## 아래 예에서 볼 수 있듯이 여기서 lambda 함수를 쓸 이유가 없음. 여기서 문자열 포매팅 때문에 람다함수를 쓴것은 맞지 않죠."
   ]
  },
  {
   "cell_type": "code",
   "execution_count": 183,
   "metadata": {},
   "outputs": [
    {
     "data": {
      "text/plain": [
       "['2 x 1 = 2',\n",
       " '2 x 2 = 4',\n",
       " '2 x 3 = 6',\n",
       " '2 x 4 = 8',\n",
       " '2 x 5 = 10',\n",
       " '2 x 6 = 12',\n",
       " '2 x 7 = 14',\n",
       " '2 x 8 = 16',\n",
       " '2 x 9 = 18',\n",
       " '3 x 1 = 3',\n",
       " '3 x 2 = 6',\n",
       " '3 x 3 = 9',\n",
       " '3 x 4 = 12',\n",
       " '3 x 5 = 15',\n",
       " '3 x 6 = 18',\n",
       " '3 x 7 = 21',\n",
       " '3 x 8 = 24',\n",
       " '3 x 9 = 27',\n",
       " '4 x 1 = 4',\n",
       " '4 x 2 = 8',\n",
       " '4 x 3 = 12',\n",
       " '4 x 4 = 16',\n",
       " '4 x 5 = 20',\n",
       " '4 x 6 = 24',\n",
       " '4 x 7 = 28',\n",
       " '4 x 8 = 32',\n",
       " '4 x 9 = 36',\n",
       " '5 x 1 = 5',\n",
       " '5 x 2 = 10',\n",
       " '5 x 3 = 15',\n",
       " '5 x 4 = 20',\n",
       " '5 x 5 = 25',\n",
       " '5 x 6 = 30',\n",
       " '5 x 7 = 35',\n",
       " '5 x 8 = 40',\n",
       " '5 x 9 = 45',\n",
       " '6 x 1 = 6',\n",
       " '6 x 2 = 12',\n",
       " '6 x 3 = 18',\n",
       " '6 x 4 = 24',\n",
       " '6 x 5 = 30',\n",
       " '6 x 6 = 36',\n",
       " '6 x 7 = 42',\n",
       " '6 x 8 = 48',\n",
       " '6 x 9 = 54',\n",
       " '7 x 1 = 7',\n",
       " '7 x 2 = 14',\n",
       " '7 x 3 = 21',\n",
       " '7 x 4 = 28',\n",
       " '7 x 5 = 35',\n",
       " '7 x 6 = 42',\n",
       " '7 x 7 = 49',\n",
       " '7 x 8 = 56',\n",
       " '7 x 9 = 63',\n",
       " '8 x 1 = 8',\n",
       " '8 x 2 = 16',\n",
       " '8 x 3 = 24',\n",
       " '8 x 4 = 32',\n",
       " '8 x 5 = 40',\n",
       " '8 x 6 = 48',\n",
       " '8 x 7 = 56',\n",
       " '8 x 8 = 64',\n",
       " '8 x 9 = 72',\n",
       " '9 x 1 = 9',\n",
       " '9 x 2 = 18',\n",
       " '9 x 3 = 27',\n",
       " '9 x 4 = 36',\n",
       " '9 x 5 = 45',\n",
       " '9 x 6 = 54',\n",
       " '9 x 7 = 63',\n",
       " '9 x 8 = 72',\n",
       " '9 x 9 = 81']"
      ]
     },
     "execution_count": 183,
     "metadata": {},
     "output_type": "execute_result"
    }
   ],
   "source": [
    "[('{} x {} = {}'.format(a,b,a*b)) for a in range(2,10) for b in range(1,10)]"
   ]
  },
  {
   "cell_type": "code",
   "execution_count": null,
   "metadata": {},
   "outputs": [],
   "source": []
  },
  {
   "cell_type": "markdown",
   "metadata": {},
   "source": [
    "### 내부함수"
   ]
  },
  {
   "cell_type": "code",
   "execution_count": null,
   "metadata": {},
   "outputs": [],
   "source": [
    "# 문자열 인자를 하나 전달받는 함수를 만들고, 해당 함수 내부에 전달받은 문자열을 대문자화해서 리턴해주는 내부 함수를 구현한다.\n",
    "# 문자열을 전달받는 함수는 내부함수를 실행한 결과를 리턴하도록 한다."
   ]
  },
  {
   "cell_type": "code",
   "execution_count": 39,
   "metadata": {},
   "outputs": [],
   "source": [
    "def f1(str):\n",
    "    # str1 = str 이 과정이 없어도 됨.\n",
    "    def inner_function(tossed_str):\n",
    "        return tossed_str.upper()\n",
    "    return inner_function(str)"
   ]
  },
  {
   "cell_type": "code",
   "execution_count": 41,
   "metadata": {},
   "outputs": [
    {
     "data": {
      "text/plain": [
       "'DOWNCAPITAL_FOR_YOU'"
      ]
     },
     "execution_count": 41,
     "metadata": {},
     "output_type": "execute_result"
    }
   ],
   "source": [
    "f1('downcapital_for_you')"
   ]
  },
  {
   "cell_type": "code",
   "execution_count": null,
   "metadata": {},
   "outputs": [],
   "source": []
  },
  {
   "cell_type": "code",
   "execution_count": null,
   "metadata": {},
   "outputs": [],
   "source": []
  },
  {
   "cell_type": "markdown",
   "metadata": {},
   "source": [
    "# 알고리즘"
   ]
  },
  {
   "cell_type": "code",
   "execution_count": 142,
   "metadata": {},
   "outputs": [],
   "source": [
    "# 순차검색(Sequential Search)\n",
    "\n",
    "# 1 문자열과 키 문자 1개를 받는 함수 구현\n",
    "# 2 while문을 이용, 문자열에서 키 문자가 존재하는 index위치를 검사 후 해당 index를 리턴\n",
    "# 3 찾지 못했을 경우 -1을 리턴"
   ]
  },
  {
   "cell_type": "code",
   "execution_count": 148,
   "metadata": {},
   "outputs": [
    {
     "data": {
      "text/plain": [
       "0"
      ]
     },
     "execution_count": 148,
     "metadata": {},
     "output_type": "execute_result"
    }
   ],
   "source": [
    "def search(str1, str2):\n",
    "    i = 0\n",
    "    while i < len(str1):\n",
    "        if str1[i] == str2:\n",
    "            return i\n",
    "        i += 1\n",
    "    return -1\n",
    "\n",
    "search('ahellow everbody i', 'a')"
   ]
  },
  {
   "cell_type": "code",
   "execution_count": 147,
   "metadata": {},
   "outputs": [
    {
     "data": {
      "text/plain": [
       "-1"
      ]
     },
     "execution_count": 147,
     "metadata": {},
     "output_type": "execute_result"
    }
   ],
   "source": [
    "def search(s, key):\n",
    "    for index, item in enumerate(s):\n",
    "        if item == key:\n",
    "            return index\n",
    "        return -1\n",
    "    \n",
    "search('ahellow everbody i', '')"
   ]
  },
  {
   "cell_type": "code",
   "execution_count": null,
   "metadata": {},
   "outputs": [],
   "source": []
  },
  {
   "cell_type": "code",
   "execution_count": null,
   "metadata": {},
   "outputs": [],
   "source": []
  },
  {
   "cell_type": "code",
   "execution_count": null,
   "metadata": {},
   "outputs": [],
   "source": [
    "# 선택정렬(Selection sort)\n",
    "\n",
    "# - [9, 1, 6, 8, 4, 3, 2, 0, 5, 7] 를 정렬한다.\n",
    "\n",
    "# - 정렬과정\n",
    "\n",
    "# a. 리스트 중 최소값을 검색\n",
    "# b. 그 값을 맨 앞의 값과 교체\n",
    "# c. 나머지 리스트에서 위의 과정을 반복\n",
    "\n",
    "# - 해결방법\n",
    "\n",
    "# 알고리즘 진행과정 그려보기\n",
    "# 의사코드(Psuedo code) 작성\n",
    "# 실제 코드 작성"
   ]
  },
  {
   "cell_type": "code",
   "execution_count": null,
   "metadata": {},
   "outputs": [],
   "source": []
  },
  {
   "cell_type": "code",
   "execution_count": 207,
   "metadata": {},
   "outputs": [
    {
     "name": "stdout",
     "output_type": "stream",
     "text": [
      "[0, 1, 2, 3, 4, 5, 6, 7, 8, 9]\n"
     ]
    }
   ],
   "source": [
    "list1 =[9, 1, 6, 8, 4, 3, 2, 0, 5, 7]\n",
    "list1.sort()\n",
    "\n",
    "print(list1)\n",
    "\n",
    "\n",
    "## list.sort method 이용"
   ]
  },
  {
   "cell_type": "code",
   "execution_count": 208,
   "metadata": {},
   "outputs": [
    {
     "name": "stdout",
     "output_type": "stream",
     "text": [
      "[0, 1, 2, 3, 4, 5, 6, 7, 8, 9]\n"
     ]
    }
   ],
   "source": [
    "list1 =[9, 1, 6, 8, 4, 3, 2, 0, 5, 7]\n",
    "list2 = sorted(list1)\n",
    "\n",
    "print(list2)\n",
    "\n",
    "## sorted() built-in function 이용"
   ]
  },
  {
   "cell_type": "code",
   "execution_count": null,
   "metadata": {},
   "outputs": [],
   "source": []
  },
  {
   "cell_type": "code",
   "execution_count": null,
   "metadata": {},
   "outputs": [],
   "source": []
  },
  {
   "cell_type": "code",
   "execution_count": null,
   "metadata": {},
   "outputs": [],
   "source": [
    "# 01 Selection Sort"
   ]
  },
  {
   "cell_type": "code",
   "execution_count": 226,
   "metadata": {},
   "outputs": [
    {
     "name": "stdout",
     "output_type": "stream",
     "text": [
      "[1, 6, 8, 4, 3, 2, 0, 5, 7, 9]\n"
     ]
    }
   ],
   "source": [
    "list1 = [9, 1, 6, 8, 4, 3, 2, 0, 5, 7]\n",
    "\n",
    "# 한번만 실행\n",
    "def selection_sort(list1):\n",
    "    num = len(list1)\n",
    "    for i in range(0, num-1):\n",
    "        if list1[i] > list1[i+1]:\n",
    "            temp = list1[i+1]\n",
    "            list1[i+1] = list1[i]\n",
    "            list1[i] = temp\n",
    "            \n",
    "    # for j in range(0, num)\n",
    "        \n",
    "    \n",
    "    \n",
    "selection_sort(list1)\n",
    "print(list1)"
   ]
  },
  {
   "cell_type": "code",
   "execution_count": 24,
   "metadata": {},
   "outputs": [
    {
     "name": "stdout",
     "output_type": "stream",
     "text": [
      "[3, 9, 6, 8, 4, 1, 2, 0, 5, 7]\n",
      "[3, 6, 9, 8, 4, 1, 2, 0, 5, 7]\n",
      "[3, 6, 8, 9, 4, 1, 2, 0, 5, 7]\n",
      "[3, 6, 8, 4, 9, 1, 2, 0, 5, 7]\n",
      "[3, 6, 8, 4, 1, 9, 2, 0, 5, 7]\n",
      "[3, 6, 8, 4, 1, 2, 9, 0, 5, 7]\n",
      "[3, 6, 8, 4, 1, 2, 0, 9, 5, 7]\n",
      "[3, 6, 8, 4, 1, 2, 0, 5, 9, 7]\n",
      "[3, 6, 8, 4, 1, 2, 0, 5, 7, 9]\n",
      "[3, 6, 8, 4, 1, 2, 0, 5, 7, 9] \n",
      "\n",
      "[3, 6, 4, 8, 1, 2, 0, 5, 7, 9]\n",
      "[3, 6, 4, 1, 8, 2, 0, 5, 7, 9]\n",
      "[3, 6, 4, 1, 2, 8, 0, 5, 7, 9]\n",
      "[3, 6, 4, 1, 2, 0, 8, 5, 7, 9]\n",
      "[3, 6, 4, 1, 2, 0, 5, 8, 7, 9]\n",
      "[3, 6, 4, 1, 2, 0, 5, 7, 8, 9]\n",
      "[3, 6, 4, 1, 2, 0, 5, 7, 8, 9] \n",
      "\n",
      "[3, 4, 6, 1, 2, 0, 5, 7, 8, 9]\n",
      "[3, 4, 1, 6, 2, 0, 5, 7, 8, 9]\n",
      "[3, 4, 1, 2, 6, 0, 5, 7, 8, 9]\n",
      "[3, 4, 1, 2, 0, 6, 5, 7, 8, 9]\n",
      "[3, 4, 1, 2, 0, 5, 6, 7, 8, 9]\n",
      "[3, 4, 1, 2, 0, 5, 6, 7, 8, 9] \n",
      "\n",
      "[3, 1, 4, 2, 0, 5, 6, 7, 8, 9]\n",
      "[3, 1, 2, 4, 0, 5, 6, 7, 8, 9]\n",
      "[3, 1, 2, 0, 4, 5, 6, 7, 8, 9]\n",
      "[3, 1, 2, 0, 4, 5, 6, 7, 8, 9] \n",
      "\n",
      "[1, 3, 2, 0, 4, 5, 6, 7, 8, 9]\n",
      "[1, 2, 3, 0, 4, 5, 6, 7, 8, 9]\n",
      "[1, 2, 0, 3, 4, 5, 6, 7, 8, 9]\n",
      "[1, 2, 0, 3, 4, 5, 6, 7, 8, 9] \n",
      "\n",
      "[1, 0, 2, 3, 4, 5, 6, 7, 8, 9]\n",
      "[1, 0, 2, 3, 4, 5, 6, 7, 8, 9] \n",
      "\n",
      "[0, 1, 2, 3, 4, 5, 6, 7, 8, 9]\n",
      "[0, 1, 2, 3, 4, 5, 6, 7, 8, 9] \n",
      "\n",
      "[0, 1, 2, 3, 4, 5, 6, 7, 8, 9] \n",
      "\n",
      "[0, 1, 2, 3, 4, 5, 6, 7, 8, 9] \n",
      "\n",
      "[0, 1, 2, 3, 4, 5, 6, 7, 8, 9]\n"
     ]
    }
   ],
   "source": [
    "list1 = [9, 3, 6, 8, 4, 1, 2, 0, 5, 7]\n",
    "\n",
    "# 모두 한번씩 실행\n",
    "def selection_sort(list1):\n",
    "    n1 = 0\n",
    "    n2 = len(list1)\n",
    "    for i in range(n1, n2-1):\n",
    "        for j in range(0, n2-1):\n",
    "            if list1[j] > list1[j+1]:\n",
    "                temp = list1[j+1]\n",
    "                list1[j+1] = list1[j]\n",
    "                list1[j] = temp\n",
    "               h print(list1)\n",
    "        n1 += 1\n",
    "        print(f'{list1} \\n')\n",
    "        \n",
    "    \n",
    "    \n",
    "selection_sort(list1)\n",
    "print(list1)"
   ]
  },
  {
   "cell_type": "code",
   "execution_count": null,
   "metadata": {},
   "outputs": [],
   "source": []
  },
  {
   "cell_type": "code",
   "execution_count": 261,
   "metadata": {},
   "outputs": [],
   "source": [
    "# 02 최소값 바꾸는 법"
   ]
  },
  {
   "cell_type": "code",
   "execution_count": 18,
   "metadata": {},
   "outputs": [
    {
     "data": {
      "text/plain": [
       "'\\nlist1 = [9, 1, 6, 8, 4, 3, 2, 0, 5, 7]\\n\\ndef selection_sort(list1):\\n    n2 = len(list1)\\n    \\n    for i in range(0, n2-1):\\n        if i == 0\\n            small \\n        elif list1[i] > list1[i+1]:\\n            small = list1[i+1]\\n            small_n = i+1\\n    \\n    print(small)\\n    print(small_n)\\n    \\n    temp = list1[0]\\n    list1[0] = small\\n    list1[i] = temp\\n\\n    \\n\\nselection_sort(list1)\\nprint(list1)\\n'"
      ]
     },
     "execution_count": 18,
     "metadata": {},
     "output_type": "execute_result"
    }
   ],
   "source": [
    "# 박살난 코드\n",
    "\n",
    "'''\n",
    "list1 = [9, 1, 6, 8, 4, 3, 2, 0, 5, 7]\n",
    "\n",
    "def selection_sort(list1):\n",
    "    n2 = len(list1)\n",
    "    \n",
    "    for i in range(0, n2-1):\n",
    "        if i == 0\n",
    "            small \n",
    "        elif list1[i] > list1[i+1]:\n",
    "            small = list1[i+1]\n",
    "            small_n = i+1\n",
    "    \n",
    "    print(small)\n",
    "    print(small_n)\n",
    "    \n",
    "    temp = list1[0]\n",
    "    list1[0] = small\n",
    "    list1[i] = temp\n",
    "\n",
    "    \n",
    "\n",
    "selection_sort(list1)\n",
    "print(list1)\n",
    "'''"
   ]
  },
  {
   "cell_type": "code",
   "execution_count": null,
   "metadata": {},
   "outputs": [],
   "source": [
    "    "
   ]
  },
  {
   "cell_type": "code",
   "execution_count": 10,
   "metadata": {},
   "outputs": [
    {
     "name": "stdout",
     "output_type": "stream",
     "text": [
      "[0, 1, 6, 8, 4, 3, 2, 9, 5, 7]\n"
     ]
    }
   ],
   "source": [
    "list1 = [9, 1, 6, 8, 4, 3, 2, 0, 5, 7]\n",
    "\n",
    "\n",
    "def selection_sort(list1):\n",
    "    min_num = min(list1)\n",
    "    min_pos = list1.index(min_num)\n",
    "    temp = list1[0]\n",
    "    list1[0] = min_num\n",
    "    list1[min_pos] = temp\n",
    "    \n",
    "\n",
    "selection_sort(list1)\n",
    "print(list1)"
   ]
  },
  {
   "cell_type": "code",
   "execution_count": null,
   "metadata": {},
   "outputs": [],
   "source": []
  },
  {
   "cell_type": "code",
   "execution_count": 17,
   "metadata": {},
   "outputs": [
    {
     "name": "stdout",
     "output_type": "stream",
     "text": [
      "[0]\n",
      "[0, 1]\n",
      "[0, 1, 2]\n",
      "[0, 1, 2, 3]\n",
      "[0, 1, 2, 3, 4]\n",
      "[0, 1, 2, 3, 4, 5]\n",
      "[0, 1, 2, 3, 4, 5, 6]\n",
      "[0, 1, 2, 3, 4, 5, 6, 7]\n",
      "[0, 1, 2, 3, 4, 5, 6, 7, 8]\n",
      "[0, 1, 2, 3, 4, 5, 6, 7, 8, 9]\n",
      "[0, 1, 2, 3, 4, 5, 6, 7, 8, 9]\n"
     ]
    }
   ],
   "source": [
    "list1 = [9, 1, 6, 8, 4, 3, 2, 0, 5, 7]\n",
    "list2 = []\n",
    "\n",
    "def selection_sort(list1):\n",
    "    for i in range (0, len(list1)):\n",
    "        min_num = min(list1)\n",
    "        min_pos = list1.index(min_num)\n",
    "        temp = list1[0]\n",
    "        # list1[0] = min_num\n",
    "        list1[min_pos] = temp\n",
    "        list2.append(min_num)\n",
    "        del list1[0]\n",
    "        print(list2)\n",
    "\n",
    "selection_sort(list1)\n",
    "list1 = list2\n",
    "print(list1)"
   ]
  },
  {
   "cell_type": "code",
   "execution_count": null,
   "metadata": {},
   "outputs": [],
   "source": []
  }
 ],
 "metadata": {
  "kernelspec": {
   "display_name": "Python 3",
   "language": "python",
   "name": "python3"
  },
  "language_info": {
   "codemirror_mode": {
    "name": "ipython",
    "version": 3
   },
   "file_extension": ".py",
   "mimetype": "text/x-python",
   "name": "python",
   "nbconvert_exporter": "python",
   "pygments_lexer": "ipython3",
   "version": "3.6.4"
  }
 },
 "nbformat": 4,
 "nbformat_minor": 2
}
